{
 "cells": [
  {
   "metadata": {
    "ExecuteTime": {
     "end_time": "2025-10-15T01:41:50.001693Z",
     "start_time": "2025-10-15T01:41:49.998590Z"
    }
   },
   "cell_type": "code",
   "source": [
    "import pandas as pd\n",
    "import ast\n",
    "import os\n",
    "from src.data_cleaning import flatten_nested_column\n",
    "from src.expand_scores import expand_score_list_column\n",
    "\n",
    "###change as needed\n",
    "year = 2025"
   ],
   "id": "e038552496a28718",
   "outputs": [],
   "execution_count": 31
  },
  {
   "metadata": {},
   "cell_type": "markdown",
   "source": [
    "# **RATINGS**\n",
    "\n",
    "#### **FPI** | **PPA TEAM** | **PREGAME WP** | **SP+**"
   ],
   "id": "3eea3316d787e8cc"
  },
  {
   "metadata": {
    "ExecuteTime": {
     "end_time": "2025-10-15T01:41:50.085102Z",
     "start_time": "2025-10-15T01:41:50.008646Z"
    }
   },
   "cell_type": "code",
   "source": [
    "folder = \"ratings\"\n",
    "\n",
    "df_fpi = pd.read_csv(f\"../Data/Raw/{year}/{folder}/fpi.csv\")\n",
    "df_ppa = pd.read_csv(f\"../Data/Raw/{year}/{folder}/ppa_team.csv\")\n",
    "df_pgw = pd.read_csv(f\"../Data/Raw/{year}/{folder}/pregame_wp.csv\")\n",
    "df_sp = pd.read_csv(f\"../Data/Raw/{year}/{folder}/sp.csv\")\n",
    "\n",
    "processed_path = f\"../Data/Processed/{year}/{folder}\"\n",
    "os.makedirs(processed_path, exist_ok=True)\n",
    "\n",
    "def flatten_multiple(df, columns):\n",
    "    for col, prefix in columns:\n",
    "        df = flatten_nested_column(df, col, prefix=prefix)\n",
    "    return df\n",
    "\n",
    "df_fpi = flatten_multiple(df_fpi, [\n",
    "    (\"resumeRanks\", \"resume\"),\n",
    "    (\"efficiencies\", \"eff\"),\n",
    "])\n",
    "\n",
    "df_ppa = flatten_multiple(df_ppa, [\n",
    "    (\"offense\", \"off\"),\n",
    "    (\"defense\", \"def\"),\n",
    "])\n",
    "\n",
    "df_sp = flatten_multiple(df_sp, [\n",
    "    (\"offense\", \"off\"),\n",
    "    (\"defense\", \"def\"),\n",
    "    (\"specialTeams\", \"spec\"),\n",
    "])\n",
    "\n",
    "df_fpi.to_csv(f\"{processed_path}/fpi_cleaned.csv\", index=False)\n",
    "df_ppa.to_csv(f\"{processed_path}/ppa_team_cleaned.csv\", index=False)\n",
    "df_sp.to_csv(f\"{processed_path}/sp_cleaned.csv\", index=False)\n",
    "\n",
    "df_pgw.to_csv(f\"{processed_path}/pregame_wp_cleaned.csv\", index=False)\n",
    "\n",
    "print(\"✅ All datasets processed and saved to:\", processed_path)"
   ],
   "id": "222430e7ea3e0392",
   "outputs": [
    {
     "name": "stdout",
     "output_type": "stream",
     "text": [
      "✅ All datasets processed and saved to: ../Data/Processed/2025/ratings\n"
     ]
    }
   ],
   "execution_count": 32
  },
  {
   "metadata": {},
   "cell_type": "markdown",
   "source": [
    "# **GAMES**\n",
    "\n",
    "#### **RECORDS** | **GAMES**"
   ],
   "id": "7cdc6cf31a41f4ce"
  },
  {
   "metadata": {
    "ExecuteTime": {
     "end_time": "2025-10-15T01:41:50.163601Z",
     "start_time": "2025-10-15T01:41:50.090986Z"
    }
   },
   "cell_type": "code",
   "source": [
    "folder = \"games\"\n",
    "raw_path = f\"../Data/Raw/{year}/{folder}\"\n",
    "processed_path = f\"../Data/Processed/{year}/{folder}\"\n",
    "os.makedirs(processed_path, exist_ok=True)\n",
    "\n",
    "df_games = pd.read_csv(f\"{raw_path}/games.csv\")\n",
    "\n",
    "df_games = df_games[\n",
    "    (df_games[\"homeClassification\"] == \"fbs\") |\n",
    "    (df_games[\"awayClassification\"] == \"fbs\")\n",
    "].copy()\n",
    "\n",
    "df_games = expand_score_list_column(df_games, \"homeLineScores\", prefix=\"home\")\n",
    "df_games = expand_score_list_column(df_games, \"awayLineScores\", prefix=\"away\")\n",
    "\n",
    "df_games.to_csv(f\"{processed_path}/games_cleaned.csv\", index=False)\n",
    "\n",
    "df_records = pd.read_csv(f\"{raw_path}/records.csv\")\n",
    "\n",
    "df_records = df_records[df_records[\"classification\"] == \"fbs\"].copy()\n",
    "\n",
    "records_columns = [\n",
    "    (\"total\", \"total\"),\n",
    "    (\"conferenceGames\", \"conference\"),\n",
    "    (\"homeGames\", \"home\"),\n",
    "    (\"awayGames\", \"away\"),\n",
    "    (\"neutralSiteGames\", \"neutralSite\"),\n",
    "    (\"regularSeason\", \"regularSeason\"),\n",
    "    (\"postseason\", \"postseason\"),\n",
    "]\n",
    "\n",
    "df_records = flatten_multiple(df_records, records_columns)\n",
    "\n",
    "df_records.to_csv(f\"{processed_path}/records_cleaned.csv\", index=False)\n",
    "print(\"✅ All datasets processed and saved to:\", processed_path)"
   ],
   "id": "b381af8fe4b712eb",
   "outputs": [
    {
     "name": "stdout",
     "output_type": "stream",
     "text": [
      "✅ All datasets processed and saved to: ../Data/Processed/2025/games\n"
     ]
    }
   ],
   "execution_count": 33
  },
  {
   "metadata": {},
   "cell_type": "markdown",
   "source": [
    "# **RECRUITING**\n",
    "\n",
    "#### **PLAYER USAGE** | **RECRUITS** | **RANKINGS** | **RETURNING PRODUCTION** | **TRANSFER PORTAL**"
   ],
   "id": "3918c40f8fda47f4"
  },
  {
   "metadata": {
    "ExecuteTime": {
     "end_time": "2025-10-15T01:41:50.585412Z",
     "start_time": "2025-10-15T01:41:50.169672Z"
    }
   },
   "cell_type": "code",
   "source": [
    "folder = \"recruiting\"\n",
    "raw_path = f\"../Data/Raw/{year}/{folder}\"\n",
    "processed_path = f\"../Data/Processed/{year}/{folder}\"\n",
    "os.makedirs(processed_path, exist_ok=True)\n",
    "\n",
    "df_pu = pd.read_csv(f\"{raw_path}/player_usage.csv\")\n",
    "df_rec = pd.read_csv(f\"{raw_path}/recruits.csv\")\n",
    "df_rr = pd.read_csv(f\"{raw_path}/recruiting_rankings.csv\")\n",
    "df_rp = pd.read_csv(f\"{raw_path}/returning_production.csv\")\n",
    "df_tp = pd.read_csv(f\"{raw_path}/transfer_portal.csv\")\n",
    "\n",
    "processed_path = f\"../Data/Processed/{year}/{folder}\"\n",
    "os.makedirs(processed_path, exist_ok=True)\n",
    "\n",
    "def flatten_multiple(df, columns):\n",
    "    for col, prefix in columns:\n",
    "        df = flatten_nested_column(df, col, prefix=prefix)\n",
    "    return df\n",
    "\n",
    "df_pu = flatten_multiple(df_pu, [\n",
    "    (\"usage\", \"usage\"),\n",
    "])\n",
    "\n",
    "df_rec = flatten_multiple(df_rec, [\n",
    "    (\"hometownInfo\", \"hometownInfo\"),\n",
    "])\n",
    "\n",
    "df_pu.to_csv(f\"{processed_path}/player_usage_cleaned.csv\", index=False)\n",
    "df_rec.to_csv(f\"{processed_path}/recruits_cleaned.csv\", index=False)\n",
    "\n",
    "df_rr.to_csv(f\"{processed_path}/recruiting_rankings_cleaned.csv\", index=False)\n",
    "df_rp.to_csv(f\"{processed_path}/returning_production_cleaned.csv\", index=False)\n",
    "df_tp.to_csv(f\"{processed_path}/transfer_portal_cleaned.csv\", index=False)\n",
    "\n",
    "print(\"✅ All datasets processed and saved to:\", processed_path)"
   ],
   "id": "6e9809ff82afdccf",
   "outputs": [
    {
     "name": "stdout",
     "output_type": "stream",
     "text": [
      "✅ All datasets processed and saved to: ../Data/Processed/2025/recruiting\n"
     ]
    }
   ],
   "execution_count": 34
  },
  {
   "metadata": {},
   "cell_type": "markdown",
   "source": [
    "# **STATS**\n",
    "\n",
    "#### **ADVANCED SEASON STATS** | **TEAM STATS**"
   ],
   "id": "a3d01c6f257795f7"
  },
  {
   "metadata": {
    "ExecuteTime": {
     "end_time": "2025-10-15T01:41:50.649487Z",
     "start_time": "2025-10-15T01:41:50.591756Z"
    }
   },
   "cell_type": "code",
   "source": [
    "folder = \"stats\"\n",
    "raw_path = f\"../Data/Raw/{year}/{folder}\"\n",
    "processed_path = f\"../Data/Processed/{year}/{folder}\"\n",
    "os.makedirs(processed_path, exist_ok=True)\n",
    "\n",
    "df_adv = pd.read_csv(f\"{raw_path}/advanced_season_stats.csv\")\n",
    "df_ts = pd.read_csv(f\"{raw_path}/team_stats.csv\")\n",
    "\n",
    "processed_path = f\"../Data/Processed/{year}/{folder}\"\n",
    "os.makedirs(processed_path, exist_ok=True)\n",
    "\n",
    "def flatten_multiple(df, columns):\n",
    "    for col, prefix in columns:\n",
    "        df = flatten_nested_column(df, col, prefix=prefix)\n",
    "    return df\n",
    "\n",
    "df_adv = flatten_multiple(df_adv, [\n",
    "    (\"offense\", \"offense\"),\n",
    "    (\"defense\", \"defense\"),\n",
    "])\n",
    "\n",
    "df_adv.to_csv(f\"{processed_path}/advanced_season_stats_cleaned.csv\", index=False)\n",
    "df_ts.to_csv(f\"{processed_path}/team_stats_cleaned.csv\", index=False)\n",
    "\n",
    "print(\"✅ All datasets processed and saved to:\", processed_path)"
   ],
   "id": "4c7825e5e1b77d63",
   "outputs": [
    {
     "name": "stdout",
     "output_type": "stream",
     "text": [
      "✅ All datasets processed and saved to: ../Data/Processed/2025/stats\n"
     ]
    }
   ],
   "execution_count": 35
  }
 ],
 "metadata": {
  "kernelspec": {
   "name": "python3",
   "language": "python",
   "display_name": "Python 3 (ipykernel)"
  }
 },
 "nbformat": 4,
 "nbformat_minor": 5
}
