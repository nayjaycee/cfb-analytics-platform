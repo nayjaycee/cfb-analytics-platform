{
 "cells": [
  {
   "cell_type": "code",
   "id": "initial_id",
   "metadata": {
    "collapsed": true,
    "ExecuteTime": {
     "end_time": "2025-10-13T03:35:16.907172Z",
     "start_time": "2025-10-13T03:34:58.752997Z"
    }
   },
   "source": [
    "from src.cfbd_client import configuration\n",
    "import cfbd\n",
    "import pandas as pd\n",
    "import os\n",
    "\n",
    "YEAR = 2025\n",
    "BASE_PATH = f\"../Data/Raw/{YEAR}\"\n",
    "\n",
    "def pull_and_save(api_class, func_name, subfolder, filename, **kwargs):\n",
    "    path = f\"{BASE_PATH}/{subfolder}\"\n",
    "    os.makedirs(path, exist_ok=True)\n",
    "\n",
    "    try:\n",
    "        with cfbd.ApiClient(configuration) as api_client:\n",
    "            api = api_class(api_client)\n",
    "            func = getattr(api, func_name)\n",
    "            data = func(**kwargs)\n",
    "            df = pd.DataFrame([d.to_dict() for d in data])\n",
    "            if not df.empty:\n",
    "                save_path = f\"{path}/{filename}.csv\"\n",
    "                df.to_csv(save_path, index=False)\n",
    "                print(f\"Saved {save_path} | {len(df)} rows | cols: {len(df.columns)}\")\n",
    "            else:\n",
    "                print(f\"No data for {filename}\")\n",
    "    except Exception as e:\n",
    "        print(f\"Error pulling {filename}: {e}\")\n",
    "\n",
    "\n",
    "# --- Pull Data ---\n",
    "\n",
    "## Coaches\n",
    "pull_and_save(cfbd.CoachesApi, \"get_coaches\", \"teams\", \"coaches\", year=YEAR)\n",
    "\n",
    "## Games / Records\n",
    "pull_and_save(cfbd.GamesApi, \"get_records\", \"games\", \"records\", year=YEAR)\n",
    "pull_and_save(cfbd.GamesApi, \"get_games\", \"games\", \"games\", year=YEAR)\n",
    "\n",
    "## Metrics and Ratings\n",
    "pull_and_save(cfbd.MetricsApi, \"get_predicted_points_added_by_team\", \"ratings\", \"ppa_team\", year=YEAR)\n",
    "pull_and_save(cfbd.MetricsApi, \"get_pregame_win_probabilities\", \"ratings\", \"pregame_wp\", year=YEAR)\n",
    "pull_and_save(cfbd.RatingsApi, \"get_fpi\", \"ratings\", \"fpi\", year=YEAR)\n",
    "pull_and_save(cfbd.RatingsApi, \"get_sp\", \"ratings\", \"sp\", year=YEAR)\n",
    "\n",
    "## Recruiting and Players\n",
    "pull_and_save(cfbd.RecruitingApi, \"get_team_recruiting_rankings\", \"recruiting\", \"recruiting_rankings\", year=YEAR)\n",
    "pull_and_save(cfbd.RecruitingApi, \"get_recruits\", \"recruiting\", \"recruits\", year=YEAR)\n",
    "pull_and_save(cfbd.PlayersApi, \"get_transfer_portal\", \"recruiting\", \"transfer_portal\", year=YEAR)\n",
    "pull_and_save(cfbd.PlayersApi, \"get_player_usage\", \"recruiting\", \"player_usage\", year=YEAR)\n",
    "pull_and_save(cfbd.PlayersApi, \"get_returning_production\", \"recruiting\", \"returning_production\", year=YEAR)\n",
    "\n",
    "## Stats\n",
    "pull_and_save(cfbd.StatsApi, \"get_team_stats\", \"stats\", \"team_stats\", year=YEAR)\n",
    "pull_and_save(cfbd.StatsApi, \"get_advanced_season_stats\", \"stats\", \"advanced_season_stats\", year=YEAR)\n",
    "\n",
    "## Teams\n",
    "pull_and_save(cfbd.TeamsApi, \"get_fbs_teams\", \"teams\", \"fbs_teams\")\n",
    "pull_and_save(cfbd.TeamsApi, \"get_talent\", \"teams\", \"talent\", year=YEAR)\n",
    "pull_and_save(cfbd.TeamsApi, \"get_teams_ats\", \"teams\", \"teams_ats\", year=YEAR)\n"
   ],
   "outputs": [
    {
     "name": "stdout",
     "output_type": "stream",
     "text": [
      "Saved ../Data/Raw/2025/teams/coaches.csv | 136 rows | cols: 4\n",
      "Saved ../Data/Raw/2025/games/records.csv | 668 rows | cols: 14\n",
      "Saved ../Data/Raw/2025/games/games.csv | 3651 rows | cols: 33\n",
      "Saved ../Data/Raw/2025/ratings/ppa_team.csv | 136 rows | cols: 5\n",
      "Saved ../Data/Raw/2025/ratings/pregame_wp.csv | 547 rows | cols: 8\n",
      "Saved ../Data/Raw/2025/ratings/fpi.csv | 136 rows | cols: 6\n",
      "Saved ../Data/Raw/2025/ratings/sp.csv | 137 rows | cols: 10\n",
      "Saved ../Data/Raw/2025/recruiting/recruiting_rankings.csv | 232 rows | cols: 4\n",
      "Saved ../Data/Raw/2025/recruiting/recruits.csv | 2507 rows | cols: 17\n",
      "Saved ../Data/Raw/2025/recruiting/transfer_portal.csv | 4494 rows | cols: 10\n",
      "Saved ../Data/Raw/2025/recruiting/player_usage.csv | 4677 rows | cols: 7\n",
      "Saved ../Data/Raw/2025/recruiting/returning_production.csv | 134 rows | cols: 15\n",
      "Saved ../Data/Raw/2025/stats/team_stats.csv | 8541 rows | cols: 5\n",
      "Saved ../Data/Raw/2025/stats/advanced_season_stats.csv | 136 rows | cols: 5\n",
      "Saved ../Data/Raw/2025/teams/fbs_teams.csv | 136 rows | cols: 13\n",
      "Saved ../Data/Raw/2025/teams/talent.csv | 134 rows | cols: 3\n",
      "Saved ../Data/Raw/2025/teams/teams_ats.csv | 265 rows | cols: 9\n"
     ]
    }
   ],
   "execution_count": 4
  },
  {
   "metadata": {
    "ExecuteTime": {
     "end_time": "2025-10-13T03:21:36.724423Z",
     "start_time": "2025-10-13T03:21:35.889010Z"
    }
   },
   "cell_type": "code",
   "source": "",
   "id": "ccbbfebcdd5f31c4",
   "outputs": [
    {
     "name": "stdout",
     "output_type": "stream",
     "text": [
      "Saved ../Data/Raw/2025/games/games.csv | 3651 rows | cols: 33\n"
     ]
    }
   ],
   "execution_count": 3
  },
  {
   "metadata": {},
   "cell_type": "code",
   "outputs": [],
   "execution_count": null,
   "source": "",
   "id": "cf46ce3f256cb58b"
  }
 ],
 "metadata": {
  "kernelspec": {
   "display_name": "Python 3",
   "language": "python",
   "name": "python3"
  },
  "language_info": {
   "codemirror_mode": {
    "name": "ipython",
    "version": 2
   },
   "file_extension": ".py",
   "mimetype": "text/x-python",
   "name": "python",
   "nbconvert_exporter": "python",
   "pygments_lexer": "ipython2",
   "version": "2.7.6"
  }
 },
 "nbformat": 4,
 "nbformat_minor": 5
}
